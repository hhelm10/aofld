{
 "cells": [
  {
   "cell_type": "code",
   "execution_count": 2,
   "metadata": {},
   "outputs": [],
   "source": [
    "import sys\n",
    "sys.path.insert(0, '/home/ashwin1996/FLD_optimal_weighting')\n",
    "\n",
    "import os\n",
    "os.environ['TF_CPP_MIN_LOG_LEVEL'] = '3' \n",
    "\n",
    "import numpy as np\n",
    "from tfld import tfld, utils\n",
    "import tensorflow as tf\n",
    "import tensorflow_probability as tfp\n",
    "from scipy.stats import norm, multivariate_normal, invwishart, wishart\n",
    "from sklearn.metrics import balanced_accuracy_score as bas\n",
    "from numpy.linalg import inv\n",
    "\n",
    "from joblib import Parallel, delayed\n",
    "from tqdm import tqdm"
   ]
  },
  {
   "cell_type": "code",
   "execution_count": 32,
   "metadata": {},
   "outputs": [],
   "source": [
    "# essential functions; from Ashwin's code\n",
    "def generate_data(n, nu, d, cov, pi):\n",
    "    \"Draw data from the target distribution\"\n",
    "    n_1 = round(n*pi)\n",
    "    n_0 = round(n*(1-pi))\n",
    "    X_0 = np.random.multivariate_normal(-nu, cov, n_0)\n",
    "    X_1 = np.random.multivariate_normal(nu, cov, n_1)\n",
    "    X = np.concatenate((X_0, X_1), axis=0)\n",
    "    Y = np.concatenate((np.zeros(n_0), np.ones(n_1)))\n",
    "    return X, Y\n",
    "\n",
    "def create_dataset(n, nu, d, cov, pi=0.5, seed=None):\n",
    "    \"Draw data from the target distribution under a specified seed\"\n",
    "    if seed is not None:\n",
    "        np.random.seed(seed)\n",
    "    X, Y = generate_data(n, nu, d, cov, pi)\n",
    "    return X, Y\n",
    "\n",
    "def train_fld(X, y, cov, estimate_cov=True):\n",
    "    \"Train the FLD on the target data (return the learnt projection vector, covariance estimate, and target class 1 mean (nu^(0)) estimate\"\n",
    "    X_1 = X[y==1]\n",
    "    X_0 = X[y==0]\n",
    "\n",
    "    # estimate class means\n",
    "    m_0 = np.mean(X_0, axis=0)\n",
    "    m_1 = np.mean(X_1, axis=0)\n",
    "\n",
    "    # estimate class covariance matrices\n",
    "    if estimate_cov:\n",
    "        n_0, n_1 = len(X_0), len(X_1)\n",
    "        cov_0 = np.cov(X_0, rowvar=False)\n",
    "        cov_1 = np.cov(X_1, rowvar=False)\n",
    "        cov = ((n_0 - 1) * cov_0 + (n_1 - 1) * cov_1) / (n_0 + n_1 - 2) # pooled variance\n",
    "    \n",
    "    # estimate class priors\n",
    "    p = len(y[y==1])/len(y)\n",
    "\n",
    "    # estimate projection and threshold terms\n",
    "    w_0 = np.linalg.pinv(2 * cov) @ (m_1 - m_0)\n",
    "    w_0 /= np.linalg.norm(w_0, 2)\n",
    "    c_0 = 2 * np.log((1-p)/p)\n",
    "    nu_hat = (m_1 - m_0)/2\n",
    "\n",
    "    return w_0, c_0, cov, nu_hat \n",
    "\n",
    "def get_target_variance(n, mu, cov):\n",
    "    mu = mu.reshape(len(mu), 1)\n",
    "    inv_cov = np.linalg.pinv(cov)\n",
    "    cov_w = ((1 + mu.T @ inv_cov @ mu) * inv_cov - inv_cov @ mu @ mu.T @ inv_cov) / n\n",
    "    return cov_w\n",
    "    \n",
    "def get_covariance(d, seed=1996):\n",
    "    cov = wishart.rvs(10, np.eye(d), 1, random_state=seed)\n",
    "    return cov"
   ]
  },
  {
   "cell_type": "code",
   "execution_count": 39,
   "metadata": {},
   "outputs": [],
   "source": [
    "d = 10\n",
    "nu = np.zeros(d)\n",
    "nu[0] = 1\n",
    "cov = get_covariance(d, 1996)\n",
    "pi = 0.5\n",
    "n_list = [10, 100, 1000, 10000]\n",
    "num_reps = 1000\n",
    "\n",
    "def generate_proj_vectors(n, nu, d, cov, pi, estimate_cov=True):\n",
    "    X, y = create_dataset(n, nu, d, cov, pi=0.5, seed=None)\n",
    "    w, _, _, _ = train_fld(X, y, cov, estimate_cov)\n",
    "    return w\n",
    "\n",
    "def get_plugin_nu_and_cov(n, nu, d, cov, pi, estimate_cov=True):\n",
    "    X, y = create_dataset(n, nu, d, cov, pi=0.5, seed=None)\n",
    "    _, _, cov_hat, nu_hat = train_fld(X, y, cov, estimate_cov)\n",
    "    return cov_hat, nu_hat\n",
    "\n",
    "err_list = np.zeros((3, len(n_list)))\n",
    "for i, n in enumerate(n_list):\n",
    "    asym_cov = get_target_variance(n, nu, cov) # asym cov with true nu, sigma\n",
    "    cov_hat, nu_hat = get_plugin_nu_and_cov(n, nu, d, cov, pi, estimate_cov=True)\n",
    "    asym_cov_plugin = get_target_variance(n, nu_hat, cov_hat) # asym cov with plugin nu, sigma\n",
    "\n",
    "    f = lambda : generate_proj_vectors(n, nu, d, cov, pi)\n",
    "    w_list = np.array(Parallel(n_jobs=-1)(delayed(f)() for rep in range(num_reps)))\n",
    "    true_cov = np.cov(w_list, rowvar=False) # true cov from MC reps\n",
    "\n",
    "    err_list[0, i] = np.linalg.norm(asym_cov, ord='fro')\n",
    "    err_list[1, i] = np.linalg.norm(asym_cov_plugin, ord='fro')\n",
    "    err_list[2, i] = np.linalg.norm(true_cov, ord='fro')"
   ]
  },
  {
   "cell_type": "code",
   "execution_count": 40,
   "metadata": {},
   "outputs": [
    {
     "data": {
      "text/plain": [
       "<matplotlib.legend.Legend at 0x7f4afb5867f0>"
      ]
     },
     "execution_count": 40,
     "metadata": {},
     "output_type": "execute_result"
    },
    {
     "data": {
      "image/png": "[encoded data removed]",
      "text/plain": [
       "<Figure size 504x504 with 1 Axes>"
      ]
     },
     "metadata": {
      "needs_background": "light"
     },
     "output_type": "display_data"
    }
   ],
   "source": [
    "import matplotlib.pyplot as plt\n",
    "fig, ax = plt.subplots(figsize=(7, 7))\n",
    "labels = [\"Asym. Cov with True Params\", \n",
    "          \"Asym. Cov with Plugin Params\",\n",
    "          \"True Cov by MC reps\"]\n",
    "for i in range(len(err_list)):\n",
    "    ax.plot(n_list, err_list[i, :], lw=4, label=labels[i])\n",
    "ax.set_xscale('log')\n",
    "ax.tick_params(axis='x', labelsize=14)\n",
    "ax.tick_params(axis='y', labelsize=14)\n",
    "ax.set_ylabel(r\"$\\| S \\|^2_F$\", fontsize=16)\n",
    "ax.set_xlabel(\"n\", fontsize=16)\n",
    "ax.legend(title=\"Type of matrix S\", fontsize=14)"
   ]
  },
  {
   "cell_type": "code",
   "execution_count": null,
   "metadata": {},
   "outputs": [],
   "source": []
  }
 ],
 "metadata": {
  "kernelspec": {
   "display_name": "std_dl",
   "language": "python",
   "name": "python3"
  },
  "language_info": {
   "codemirror_mode": {
    "name": "ipython",
    "version": 3
   },
   "file_extension": ".py",
   "mimetype": "text/x-python",
   "name": "python",
   "nbconvert_exporter": "python",
   "pygments_lexer": "ipython3",
   "version": "3.8.13"
  },
  "orig_nbformat": 4,
  "vscode": {
   "interpreter": {
    "hash": "6ce1d3c305df83356e2e5b9109ee4cb7392b6bace9e6f4db1237709741f408c8"
   }
  }
 },
 "nbformat": 4,
 "nbformat_minor": 2
}
