{
 "cells": [
  {
   "cell_type": "code",
   "execution_count": 1,
   "id": "f6b704ab",
   "metadata": {},
   "outputs": [
    {
     "name": "stderr",
     "output_type": "stream",
     "text": [
      "2023-02-08 01:33:46.156754: I tensorflow/core/util/util.cc:169] oneDNN custom operations are on. You may see slightly different numerical results due to floating-point round-off errors from different computation orders. To turn them off, set the environment variable `TF_ENABLE_ONEDNN_OPTS=0`.\n",
      "2023-02-08 01:33:46.161610: W tensorflow/stream_executor/platform/default/dso_loader.cc:64] Could not load dynamic library 'libcudart.so.11.0'; dlerror: libcudart.so.11.0: cannot open shared object file: No such file or directory\n",
      "2023-02-08 01:33:46.161630: I tensorflow/stream_executor/cuda/cudart_stub.cc:29] Ignore above cudart dlerror if you do not have a GPU set up on your machine.\n"
     ]
    }
   ],
   "source": [
    "import numpy as np\n",
    "from tfld import tfld, utils\n",
    "import tensorflow as tf\n",
    "import tensorflow_probability as tfp\n",
    "from scipy.stats import norm, multivariate_normal\n",
    "from sklearn.metrics import balanced_accuracy_score as bas\n",
    "\n",
    "from joblib import Parallel, delayed\n",
    "from tqdm import tqdm"
   ]
  },
  {
   "cell_type": "code",
   "execution_count": 2,
   "id": "3e503f63",
   "metadata": {},
   "outputs": [],
   "source": [
    "def get_directions(d, J, k, seed=None):\n",
    "    \"Sample the target class 1 mean (nu^(0)) and J number of source projection vectors from a vMF distribution\"\n",
    "    mean_dir = np.zeros(d)\n",
    "    mean_dir[0] = 1\n",
    "    tfd = tfp.distributions\n",
    "    vmf = tfd.VonMisesFisher(mean_direction=mean_dir, concentration=k)\n",
    "        \n",
    "    if seed is not None:\n",
    "        tf.random.set_seed(seed)\n",
    "        \n",
    "    w = vmf.sample(J+1).numpy()    \n",
    "    return w[0], w[1:]"
   ]
  },
  {
   "cell_type": "code",
   "execution_count": 5,
   "id": "1cb243d1",
   "metadata": {},
   "outputs": [
    {
     "name": "stdout",
     "output_type": "stream",
     "text": [
      "42.188683959167975\n",
      "12.189484109541935\n",
      "10.27762420208107\n",
      "12.290991034163747\n",
      "18.441856652315206\n",
      "37.316021641484646\n"
     ]
    }
   ],
   "source": [
    "d_list=[2,5,10,20,50,100]\n",
    "J=10\n",
    "\n",
    "k=10\n",
    "\n",
    "for i,d in enumerate(d_list):\n",
    "    v, source = get_directions(d, J, 10)\n",
    "    print(tfld.estimate_kappa(source))\n",
    "    "
   ]
  },
  {
   "cell_type": "code",
   "execution_count": null,
   "id": "28cf2e70",
   "metadata": {},
   "outputs": [],
   "source": []
  }
 ],
 "metadata": {
  "kernelspec": {
   "display_name": "bci",
   "language": "python",
   "name": "bci"
  },
  "language_info": {
   "codemirror_mode": {
    "name": "ipython",
    "version": 3
   },
   "file_extension": ".py",
   "mimetype": "text/x-python",
   "name": "python",
   "nbconvert_exporter": "python",
   "pygments_lexer": "ipython3",
   "version": "3.8.10"
  }
 },
 "nbformat": 4,
 "nbformat_minor": 5
}
