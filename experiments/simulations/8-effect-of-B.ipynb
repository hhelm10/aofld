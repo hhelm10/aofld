{
 "cells": [
  {
   "cell_type": "code",
   "execution_count": 2,
   "metadata": {},
   "outputs": [],
   "source": [
    "import sys\n",
    "sys.path.insert(0, '/home/ashwin1996/FLD_optimal_weighting')\n",
    "\n",
    "import numpy as np\n",
    "import mne\n",
    "from mne import preprocessing\n",
    "\n",
    "from scipy import signal\n",
    "from tfld import utils, tfld\n",
    "\n",
    "import matplotlib.pyplot as plt\n",
    "\n",
    "# from libci import utils\n",
    "\n",
    "import pyxdf\n",
    "\n",
    "def warn(*args, **kwargs):\n",
    "    pass\n",
    "import warnings\n",
    "warnings.warn = warn\n",
    "\n",
    "import pandas as pd\n",
    "\n",
    "from sklearn.decomposition import PCA\n",
    "from joblib import delayed, Parallel\n",
    "\n",
    "%load_ext autoreload\n",
    "%autoreload 2\n",
    "\n",
    "from joblib import Parallel, delayed\n",
    "from tfld import tfld\n",
    "from tqdm import tqdm"
   ]
  },
  {
   "cell_type": "code",
   "execution_count": 3,
   "metadata": {},
   "outputs": [],
   "source": [
    "def train_fld(X, y, cov=None):\n",
    "    \"Train the FLD on the target data (return the learnt projection vector, covariance estimate, and target class 1 mean (nu^(0)) estimate\"\n",
    "    X_1 = X[y==1]\n",
    "    X_0 = X[y==0]\n",
    "\n",
    "    # estimate class means\n",
    "    m_0 = np.mean(X_0, axis=0)\n",
    "    m_1 = np.mean(X_1, axis=0)\n",
    "\n",
    "    # estimate class covariance matrices\n",
    "    if cov is None:\n",
    "        n_0, n_1 = len(X_0), len(X_1)\n",
    "        cov_0 = np.cov(X_0, rowvar=False)\n",
    "        cov_1 = np.cov(X_1, rowvar=False)\n",
    "        cov = ((n_0 - 1) * cov_0 + (n_1 - 1) * cov_1) / (n_0 + n_1 - 2) # pooled variance\n",
    "    \n",
    "    # estimate class priors\n",
    "    p = len(y[y==1])/len(y)\n",
    "\n",
    "    # estimate projection and threshold terms\n",
    "    w_0 = np.linalg.pinv(2 * cov) @ (m_1 - m_0)\n",
    "    w_0 /= np.linalg.norm(w_0)\n",
    "    c_0 = 2 * np.log((1-p)/p)\n",
    "    nu_hat = (m_1 - m_0)/2\n",
    "\n",
    "    return w_0, c_0, cov, nu_hat \n",
    "\n",
    "def compute_expected_risk(w_alpha, Sigma_t, nu):\n",
    "    \"Compute the expected accuracy of the combined hypothesis analytically\"\n",
    "    w_alpha = np.expand_dims(w_alpha, -1)\n",
    "    nom = - w_alpha.T @ nu\n",
    "    denom = np.sqrt(w_alpha.T @ Sigma_t @ w_alpha)\n",
    "    risk = norm.cdf(nom / denom)\n",
    "    return risk\n",
    "\n",
    "\n",
    "def get_source_std_error(w_s):\n",
    "    \"Compute the estimated standard error of the average source projection vector\"\n",
    "    avg_ws = np.mean(w_s, axis=0)\n",
    "    R = np.linalg.norm(avg_ws)\n",
    "    avg_ws /= R\n",
    "    J = len(w_s)\n",
    "    d = 1 - np.mean((avg_ws @ w_s.T)**2)\n",
    "    sigma = np.sqrt(d / (J * R**2))\n",
    "    return sigma**2 * np.eye(w_s.shape[1])"
   ]
  },
  {
   "cell_type": "code",
   "execution_count": 4,
   "metadata": {},
   "outputs": [
    {
     "data": {
      "text/html": [
       "<div>\n",
       "<style scoped>\n",
       "    .dataframe tbody tr th:only-of-type {\n",
       "        vertical-align: middle;\n",
       "    }\n",
       "\n",
       "    .dataframe tbody tr th {\n",
       "        vertical-align: top;\n",
       "    }\n",
       "\n",
       "    .dataframe thead th {\n",
       "        text-align: right;\n",
       "    }\n",
       "</style>\n",
       "<table border=\"1\" class=\"dataframe\">\n",
       "  <thead>\n",
       "    <tr style=\"text-align: right;\">\n",
       "      <th></th>\n",
       "      <th>Subject</th>\n",
       "      <th>Age</th>\n",
       "      <th>Gender</th>\n",
       "      <th>Recording year</th>\n",
       "      <th>Number of subtractions</th>\n",
       "      <th>Count quality</th>\n",
       "    </tr>\n",
       "  </thead>\n",
       "  <tbody>\n",
       "    <tr>\n",
       "      <th>0</th>\n",
       "      <td>Subject00</td>\n",
       "      <td>21</td>\n",
       "      <td>F</td>\n",
       "      <td>2011</td>\n",
       "      <td>9.70</td>\n",
       "      <td>0</td>\n",
       "    </tr>\n",
       "    <tr>\n",
       "      <th>1</th>\n",
       "      <td>Subject01</td>\n",
       "      <td>18</td>\n",
       "      <td>F</td>\n",
       "      <td>2011</td>\n",
       "      <td>29.35</td>\n",
       "      <td>1</td>\n",
       "    </tr>\n",
       "    <tr>\n",
       "      <th>2</th>\n",
       "      <td>Subject02</td>\n",
       "      <td>19</td>\n",
       "      <td>F</td>\n",
       "      <td>2012</td>\n",
       "      <td>12.88</td>\n",
       "      <td>1</td>\n",
       "    </tr>\n",
       "    <tr>\n",
       "      <th>3</th>\n",
       "      <td>Subject03</td>\n",
       "      <td>17</td>\n",
       "      <td>F</td>\n",
       "      <td>2010</td>\n",
       "      <td>31.00</td>\n",
       "      <td>1</td>\n",
       "    </tr>\n",
       "    <tr>\n",
       "      <th>4</th>\n",
       "      <td>Subject04</td>\n",
       "      <td>17</td>\n",
       "      <td>F</td>\n",
       "      <td>2010</td>\n",
       "      <td>8.60</td>\n",
       "      <td>0</td>\n",
       "    </tr>\n",
       "  </tbody>\n",
       "</table>\n",
       "</div>"
      ],
      "text/plain": [
       "     Subject  Age Gender  Recording year  Number of subtractions  \\\n",
       "0  Subject00   21      F            2011                    9.70   \n",
       "1  Subject01   18      F            2011                   29.35   \n",
       "2  Subject02   19      F            2012                   12.88   \n",
       "3  Subject03   17      F            2010                   31.00   \n",
       "4  Subject04   17      F            2010                    8.60   \n",
       "\n",
       "   Count quality  \n",
       "0              0  \n",
       "1              1  \n",
       "2              1  \n",
       "3              1  \n",
       "4              0  "
      ]
     },
     "execution_count": 4,
     "metadata": {},
     "output_type": "execute_result"
    }
   ],
   "source": [
    "dir_ = '/home/ashwin1996/FLD_optimal_weighting/data/physionet.org/files/eegmat/1.0.0/'\n",
    "\n",
    "meta = pd.read_csv(dir_ + 'subject-info.csv')\n",
    "meta.head()"
   ]
  },
  {
   "cell_type": "code",
   "execution_count": null,
   "metadata": {},
   "outputs": [],
   "source": [
    "subject_labels = np.array(list(meta['Count quality']))\n",
    "gender = np.array(list(meta['Gender']))\n",
    "recording_year = np.array(list(meta['Recording year']))\n",
    "\n",
    "raw_edfs = utils.get_raw_edfs(dir_)\n",
    "\n",
    "raw_edfs = [r.drop_channels(['ECG ECG', 'EEG A2-A1']) for r in raw_edfs]\n",
    "raw_edfs = [r.rename_channels(lambda x: x.split(' ')[-1]) for r in raw_edfs]\n",
    "    \n",
    "montage = mne.channels.make_standard_montage(kind='standard_1020')\n",
    "\n",
    "infos = [r.set_montage(montage, on_missing='ignore') for r in raw_edfs]\n",
    "infos = [r.load_data().set_eeg_reference(ref_channels='average') for r in infos]\n",
    "infos = [r.filter(0.5, 30) for r in infos]\n",
    "\n",
    "channel_names = infos[0].ch_names\n",
    "\n",
    "print(channel_names)"
   ]
  },
  {
   "cell_type": "code",
   "execution_count": 6,
   "metadata": {},
   "outputs": [],
   "source": [
    "sfreq=500\n",
    "\n",
    "channel_names_to_keep =  np.array([c for c in channel_names if 'z' in c.lower()])\n",
    "channels_to_keep = np.array([i for i, c in enumerate(channel_names) if 'z' in c.lower()])\n",
    "\n",
    "nspw=2.5\n",
    "windowed = utils.get_time_windows([r.get_data()[channels_to_keep] for r in infos], sfreq=sfreq, n_seconds_per_window=nspw, n_seconds_overlap=0)\n",
    "\n",
    "bands = [[4,8], [8,12], [12,20]]\n",
    "psd = utils.get_power_spectrum_ratio(windowed, sfreq, bands)\n",
    "psd = [p / np.sum(p, axis=-1, keepdims=True) for p in psd]\n",
    "\n",
    "concat = utils.concatenate_features(psd, axes=[-2,-1])\n",
    "\n",
    "X = [np.concatenate((concat[i], concat[i+1])) for i in range(0, len(concat), 2)]\n",
    "y = [np.concatenate((i * np.ones(concat[i].shape[0]), (i+1) * np.ones(concat[i+1].shape[0]))) for i in range(0, len(concat), 2)]\n",
    "y = [t.astype(int) % 2 for t in y]"
   ]
  },
  {
   "cell_type": "code",
   "execution_count": 16,
   "metadata": {},
   "outputs": [],
   "source": [
    "from sklearn.metrics import balanced_accuracy_score as bas\n",
    "from scipy.linalg import polar\n",
    "\n",
    "def cross_subject_experiment(X, y, p, traget_index=0, grid=0.1, n_samples_to_estimate_risk=100, bootstrap_variance=False,\n",
    "                             remove_tasks=False, acorn=None):\n",
    "    if acorn is not None:\n",
    "        np.random.seed(acorn)\n",
    "        \n",
    "    assert len(X) == len(y)\n",
    "    n_tasks = len(X)\n",
    "            \n",
    "    # make target task projection vectors == [+/-1, 0_{d-1}]\n",
    "    \n",
    "    train_inds = [tfld.even_sample_inds(y_, p=1) for y_ in y]\n",
    "    scalers = [tfld.TranslateStandardScale().fit(X[i][train_inds[i]], y[i][train_inds[i]]) for i in range(n_tasks)]\n",
    "    \n",
    "    projections = []\n",
    "    covs = []\n",
    "    for i in range(n_tasks):\n",
    "        X_ = scalers[i].transform(X[i])\n",
    "        target_vector, threshold, pooled_cov, class_1_mean = train_fld(X_, y[i])\n",
    "        covs.append(pooled_cov)\n",
    "        projections.append(target_vector)\n",
    "        \n",
    "    accuracies = np.zeros((1, 5))\n",
    "    alphas = np.zeros((1, 2))\n",
    "                                    \n",
    "    train_inds = tfld.even_sample_inds(y[traget_index], p=p)\n",
    "    print(train_inds)\n",
    "    scaler = tfld.TranslateStandardScale().fit(X[traget_index][train_inds], y[traget_index][train_inds])\n",
    "    \n",
    "    X_ = scaler.transform(X[traget_index])\n",
    "    target_vector, threshold, pooled_cov, class_1_mean = train_fld(X_[train_inds], y[traget_index][train_inds])  \n",
    "\n",
    "    #- average-source projection vector\n",
    "    indices_to_include = np.array([j for j in range(n_tasks) if j not in [traget_index]])\n",
    "    source_projs = [projections[j] for j in indices_to_include]\n",
    "    average_source_vector = tfld.estimate_mu(source_projs)\n",
    "\n",
    "\n",
    "    optimal_alpha = tfld.get_optimal_alpha(len(train_inds), class_1_mean, source_projs, \n",
    "                                            grid, n_samples_to_estimate_risk=n_samples_to_estimate_risk, \n",
    "                                            cov=pooled_cov, variance_from_target=None, variance_from_combined=None)\n",
    "    optimal_proj = optimal_alpha * target_vector + (1 - optimal_alpha) * average_source_vector\n",
    "        \n",
    "        \n",
    "    alphas[0,0] = optimal_alpha\n",
    "    \n",
    "    #- oracle projection vector\n",
    "    test = [j for j in range(len(X[traget_index])) if j not in train_inds]\n",
    "    \n",
    "    oracle_alpha = utils.get_oracle_alpha(X_[test], y[traget_index][test], target_vector, average_source_vector, h=grid)\n",
    "    oracle_proj = oracle_alpha * target_vector + (1 - oracle_alpha) * average_source_vector\n",
    "    alphas[0,1] = oracle_alpha\n",
    "    \n",
    "    #- Evaluation\n",
    "    pred = (X_[test] @ target_vector >= 0).astype(int)\n",
    "    accuracies[0, 0] = bas(y[traget_index][test], pred)\n",
    "\n",
    "    pred = (X_[test] @ average_source_vector >= 0).astype(int)\n",
    "    accuracies[0, 1] = bas(y[traget_index][test], pred)\n",
    "    \n",
    "    pred = (X_[test] @ optimal_proj >= 0).astype(int)\n",
    "    accuracies[0, 2] = bas(y[traget_index][test], pred)\n",
    "    \n",
    "    pred = (X_[test] @ oracle_proj >= 0).astype(int)\n",
    "    accuracies[0, 3] = bas(y[traget_index][test], pred)\n",
    "    \n",
    "    random_accuracies = np.zeros(100)\n",
    "    for j in range(100):\n",
    "        random_alpha = np.random.choice(np.arange(0,1+grid, grid), size=1)[0]\n",
    "        random_proj = random_alpha * target_vector + (1 - random_alpha) * average_source_vector\n",
    "        pred = (X_[test] @ random_proj >= 0).astype(int)\n",
    "        random_accuracies[j] = bas(y[traget_index][test], pred)\n",
    "        \n",
    "    accuracies[0, 4] = np.mean(random_accuracies)\n",
    "    \n",
    "    return accuracies, alphas"
   ]
  },
  {
   "cell_type": "code",
   "execution_count": 27,
   "metadata": {},
   "outputs": [
    {
     "name": "stderr",
     "output_type": "stream",
     "text": [
      "  0%|          | 0/3 [00:00<?, ?it/s]"
     ]
    },
    {
     "name": "stdout",
     "output_type": "stream",
     "text": [
      "[49 41 89 79]\n"
     ]
    },
    {
     "name": "stderr",
     "output_type": "stream",
     "text": [
      " 33%|███▎      | 1/3 [02:27<04:54, 147.23s/it]"
     ]
    },
    {
     "name": "stdout",
     "output_type": "stream",
     "text": [
      "0 [0.34537661 0.64360073 0.34537661 0.64360073 0.50106859]\n",
      "[49 41  1 89 79 96]\n"
     ]
    },
    {
     "name": "stderr",
     "output_type": "stream",
     "text": [
      " 67%|██████▋   | 2/3 [04:49<02:24, 144.16s/it]"
     ]
    },
    {
     "name": "stdout",
     "output_type": "stream",
     "text": [
      "1 [0.66623377 0.66103896 0.66623377 0.70649351 0.68975974]\n",
      "[49 41  1  4 25 89 79 96 85 81]\n"
     ]
    },
    {
     "name": "stderr",
     "output_type": "stream",
     "text": [
      "100%|██████████| 3/3 [07:12<00:00, 144.10s/it]"
     ]
    },
    {
     "name": "stdout",
     "output_type": "stream",
     "text": [
      "2 [0.48823529 0.65882353 0.59705882 0.65882353 0.59597059]\n"
     ]
    },
    {
     "name": "stderr",
     "output_type": "stream",
     "text": [
      "\n"
     ]
    }
   ],
   "source": [
    "# obtain the gold standard\n",
    "np.random.seed(1)\n",
    "\n",
    "n_mc = 1\n",
    "B = 100000\n",
    "n_jobs = 30\n",
    "p_list = [0.05, 0.1, 0.2]\n",
    "\n",
    "accuracies = np.zeros((len(p_list), n_mc, 1, 5))\n",
    "alphas = np.zeros((len(p_list), n_mc, 1, 2))\n",
    "for i, p in enumerate(tqdm(p_list)):\n",
    "    f = lambda x: cross_subject_experiment(X, y, p, grid=0.1, n_samples_to_estimate_risk=B, acorn=1996)\n",
    "    \n",
    "    results = Parallel(n_jobs=30)(delayed(f)(x) for x in np.zeros(n_mc))\n",
    "    \n",
    "    for j, (accuracy, alpha) in enumerate(results):\n",
    "        accuracies[i,j] = accuracy\n",
    "        alphas[i,j] = alpha\n",
    "    \n",
    "    print(i, np.mean(np.mean(accuracies, axis=1), axis=1)[i])"
   ]
  },
  {
   "cell_type": "code",
   "execution_count": 28,
   "metadata": {},
   "outputs": [],
   "source": [
    "accuracies_ = accuracies.squeeze()\n",
    "alphas_ = alphas.squeeze()\n",
    "np.save(\"gold_std_accuracies.npy\", accuracies_)\n",
    "np.save(\"gold_std_alphas.npy\", alphas_)"
   ]
  },
  {
   "cell_type": "code",
   "execution_count": 29,
   "metadata": {},
   "outputs": [
    {
     "name": "stdout",
     "output_type": "stream",
     "text": [
      "p = 0.05, B = 10\n",
      "[49 41 89 79]\n",
      "p = 0.05, B = 50\n",
      "[49 41 89 79]\n",
      "p = 0.05, B = 100\n",
      "[49 41 89 79]\n",
      "p = 0.05, B = 500\n",
      "[49 41 89 79]\n",
      "p = 0.05, B = 1000\n",
      "[49 41 89 79]\n",
      "p = 0.05, B = 5000\n",
      "[49 41 89 79]\n",
      "p = 0.1, B = 10\n",
      "[49 41  1 89 79 96]\n",
      "p = 0.1, B = 50\n",
      "[49 41  1 89 79 96]\n",
      "p = 0.1, B = 100\n",
      "[49 41  1 89 79 96]\n",
      "p = 0.1, B = 500\n",
      "[49 41  1 89 79 96]\n",
      "p = 0.1, B = 1000\n",
      "[49 41  1 89 79 96]\n",
      "p = 0.1, B = 5000\n",
      "[49 41  1 89 79 96]\n",
      "p = 0.2, B = 10\n",
      "[49 41  1  4 25 89 79 96 85 81]\n",
      "p = 0.2, B = 50\n",
      "[49 41  1  4 25 89 79 96 85 81]\n",
      "p = 0.2, B = 100\n",
      "[49 41  1  4 25 89 79 96 85 81]\n",
      "p = 0.2, B = 500\n",
      "[49 41  1  4 25 89 79 96 85 81]\n",
      "p = 0.2, B = 1000\n",
      "[49 41  1  4 25 89 79 96 85 81]\n",
      "p = 0.2, B = 5000\n",
      "[49 41  1  4 25 89 79 96 85 81]\n"
     ]
    }
   ],
   "source": [
    "# run the experiment\n",
    "np.random.seed(1)\n",
    "\n",
    "B_list = [10, 50, 100, 500, 1000, 5000]\n",
    "\n",
    "accuracies = np.zeros((len(p_list), len(B_list), n_mc, 1, 5))\n",
    "alphas = np.zeros((len(p_list), len(B_list), n_mc, 1, 2))\n",
    "\n",
    "for i, p in enumerate(p_list):\n",
    "    for j, B in enumerate(B_list):\n",
    "        print(\"p = {}, B = {}\".format(p, B))\n",
    "        f = lambda x: cross_subject_experiment(X, y, p, grid=0.1, n_samples_to_estimate_risk=B, acorn=1996)\n",
    "        \n",
    "        results = Parallel(n_jobs=30)(delayed(f)(x) for x in np.zeros(n_mc))\n",
    "        \n",
    "        for k, (accuracy, alpha) in enumerate(results):\n",
    "            accuracies[i,j,k] = accuracy\n",
    "            alphas[i,j,k] = alpha"
   ]
  },
  {
   "cell_type": "code",
   "execution_count": 32,
   "metadata": {},
   "outputs": [],
   "source": [
    "accuracies = accuracies.squeeze()\n",
    "alphas = alphas.squeeze()\n",
    "\n",
    "mse_list = np.zeros((len(p_list), len(B_list)))\n",
    "for i, p in enumerate(p_list):\n",
    "    for j, B in enumerate(B_list):\n",
    "        alphas_pB = alphas[i, j, 0].squeeze()\n",
    "        alphas_p_ = alphas_[i, 0].squeeze()\n",
    "        mse = np.sum((alphas_pB - alphas_p_)**2)\n",
    "        # mse = abs(np.median(alphas_pB) - np.median(alphas_p_))\n",
    "        mse_list[i, j] = mse"
   ]
  },
  {
   "cell_type": "code",
   "execution_count": 36,
   "metadata": {},
   "outputs": [
    {
     "data": {
      "image/png": "[encoded data removed]",
      "text/plain": [
       "<Figure size 648x504 with 1 Axes>"
      ]
     },
     "metadata": {
      "needs_background": "light"
     },
     "output_type": "display_data"
    }
   ],
   "source": [
    "# plot\n",
    "fig, ax = plt.subplots(figsize=(9, 7))\n",
    "for i, p in enumerate(p_list):\n",
    "    ax.plot(B_list, mse_list[i], label=\"p = {}\".format(p), lw=4)\n",
    "ax.set_xscale('log')\n",
    "ax.legend(fontsize=16)\n",
    "ax.set_ylabel(r\"$\\| \\alpha_B - \\alpha^\\ast \\|^2$\", fontsize=16)\n",
    "ax.set_xlabel(r\"number of samples used to estimate risk ($B$)\",fontsize=16)\n",
    "ax.tick_params(labelsize=16)\n"
   ]
  }
 ],
 "metadata": {
  "kernelspec": {
   "display_name": "std_dl",
   "language": "python",
   "name": "python3"
  },
  "language_info": {
   "codemirror_mode": {
    "name": "ipython",
    "version": 3
   },
   "file_extension": ".py",
   "mimetype": "text/x-python",
   "name": "python",
   "nbconvert_exporter": "python",
   "pygments_lexer": "ipython3",
   "version": "3.8.13"
  },
  "orig_nbformat": 4,
  "vscode": {
   "interpreter": {
    "hash": "6ce1d3c305df83356e2e5b9109ee4cb7392b6bace9e6f4db1237709741f408c8"
   }
  }
 },
 "nbformat": 4,
 "nbformat_minor": 2
}
